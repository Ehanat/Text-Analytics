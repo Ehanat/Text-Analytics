{
 "cells": [
  {
   "cell_type": "markdown",
   "id": "cb1a0bab-4634-494e-ae39-517fb958e354",
   "metadata": {},
   "source": [
    "# Text clustering using TF-IDF vectorizer"
   ]
  },
  {
   "cell_type": "markdown",
   "id": "fab15689-34b5-4647-b3f9-8fcfea940c40",
   "metadata": {},
   "source": [
    "## Step 1: Import the libraries"
   ]
  },
  {
   "cell_type": "code",
   "execution_count": 1,
   "id": "986b9963-a13c-48de-9928-d0cc4a4a5825",
   "metadata": {},
   "outputs": [],
   "source": [
    "import numpy as np\n",
    "from sklearn.cluster import KMeans\n",
    "from sklearn.feature_extraction.text import TfidfVectorizer\n",
    "from tabulate import tabulate\n",
    "from collections import Counter"
   ]
  },
  {
   "cell_type": "markdown",
   "id": "82db2823-871d-4073-baff-91e37a13265c",
   "metadata": {},
   "source": [
    "## Step 2: Create the documents"
   ]
  },
  {
   "cell_type": "code",
   "execution_count": 2,
   "id": "8b3cbd63-3f68-42cf-acf2-1e9ce2ccd649",
   "metadata": {},
   "outputs": [],
   "source": [
    "dataset = [\"I love playing football on the weekends\", \n",
    "           \"I enjoy hiking and camping in the mountains\", \n",
    "           \"I like to read books and watch movies\", \n",
    "           \"I prefer playing video games over sports\", \n",
    "           \"I love listening to music and going to concerts\"]"
   ]
  },
  {
   "cell_type": "markdown",
   "id": "5cdab6ad-e022-4dbb-97e3-1fdf4d9c88f2",
   "metadata": {},
   "source": [
    "## Step 3: Vectorize the dataset"
   ]
  },
  {
   "cell_type": "code",
   "execution_count": 4,
   "id": "78bd2d3e-a53f-4730-a3c7-7f3892c2779f",
   "metadata": {},
   "outputs": [],
   "source": [
    "vectorizer = TfidfVectorizer()\n",
    "X = vectorizer.fit_transform(dataset)"
   ]
  },
  {
   "cell_type": "code",
   "execution_count": 6,
   "id": "00edc469-5b66-4c6a-9a2f-82b019cb8c5a",
   "metadata": {},
   "outputs": [
    {
     "data": {
      "text/plain": [
       "<5x27 sparse matrix of type '<class 'numpy.float64'>'\n",
       "\twith 33 stored elements in Compressed Sparse Row format>"
      ]
     },
     "execution_count": 6,
     "metadata": {},
     "output_type": "execute_result"
    }
   ],
   "source": [
    "X"
   ]
  },
  {
   "cell_type": "markdown",
   "id": "0b3a3bbe-8881-489c-bb57-8db6073a60a9",
   "metadata": {},
   "source": [
    "## Step 4: Perform clustering"
   ]
  },
  {
   "cell_type": "markdown",
   "id": "e3859754-49db-4aed-ae6d-4a048ddbe8c1",
   "metadata": {},
   "source": [
    "k = 2\n",
    "km = KMeans(n_clusters=k)\n",
    "km.fit(X)"
   ]
  },
  {
   "cell_type": "markdown",
   "id": "cafc816d-a949-47fc-8ab9-0a8820ca6761",
   "metadata": {},
   "source": [
    "## Predict the clusters for each document"
   ]
  },
  {
   "cell_type": "code",
   "execution_count": 7,
   "id": "568c25c0-fd6b-460c-9907-23b5741f3fd7",
   "metadata": {},
   "outputs": [],
   "source": [
    "y_pred = km.predict(X)"
   ]
  },
  {
   "cell_type": "markdown",
   "id": "ebc34fe2-706e-4860-8568-e131e897ca19",
   "metadata": {},
   "source": [
    "## Display the document and its predicted cluster in a table"
   ]
  },
  {
   "cell_type": "code",
   "execution_count": 8,
   "id": "5d478100-5614-400a-ac4d-4809636ffb20",
   "metadata": {},
   "outputs": [
    {
     "name": "stdout",
     "output_type": "stream",
     "text": [
      "Document                                           Predicted Cluster\n",
      "-----------------------------------------------  -------------------\n",
      "I love playing football on the weekends                            1\n",
      "I enjoy hiking and camping in the mountains                        1\n",
      "I like to read books and watch movies                              0\n",
      "I prefer playing video games over sports                           1\n",
      "I love listening to music and going to concerts                    0\n"
     ]
    }
   ],
   "source": [
    "table_data = [[\"Document\", \"Predicted Cluster\"]]\n",
    "table_data.extend([[doc, cluster] for doc, cluster in zip(dataset, y_pred)])\n",
    "print(tabulate(table_data, headers=\"firstrow\"))"
   ]
  },
  {
   "cell_type": "markdown",
   "id": "facc13de-b269-4cdd-b50c-652335d2fe39",
   "metadata": {},
   "source": [
    "## Print top terms per cluster"
   ]
  },
  {
   "cell_type": "code",
   "execution_count": 9,
   "id": "873ab351-8276-43d3-a549-29c65ecf9d05",
   "metadata": {},
   "outputs": [
    {
     "name": "stdout",
     "output_type": "stream",
     "text": [
      "\n",
      "Top terms per cluster:\n",
      "Cluster 0:\n",
      "to\n",
      "and\n",
      "read\n",
      "watch\n",
      "movies\n",
      "like\n",
      "books\n",
      "concerts\n",
      "going\n",
      "music\n",
      "\n",
      "Cluster 1:\n",
      "playing\n",
      "the\n",
      "weekends\n",
      "on\n",
      "football\n",
      "video\n",
      "sports\n",
      "prefer\n",
      "over\n",
      "games\n",
      "\n"
     ]
    }
   ],
   "source": [
    "print(\"\\nTop terms per cluster:\")\n",
    "order_centroids = km.cluster_centers_.argsort()[:,::-1]\n",
    "terms = vectorizer.get_feature_names_out()\n",
    "for i in range(k):\n",
    "    print(\"Cluster %d:\" %i)\n",
    "    for ind in order_centroids[i, :10]:\n",
    "        print('%s' %terms[ind])\n",
    "    print()"
   ]
  },
  {
   "cell_type": "markdown",
   "id": "12bb9f07-b3ff-4da5-a004-4ffd26ae9ee1",
   "metadata": {},
   "source": [
    "## Step 5: Evalute results"
   ]
  },
  {
   "cell_type": "markdown",
   "id": "2e5247a1-3f2e-41a7-ae7e-ea9a09bf119f",
   "metadata": {},
   "source": [
    "### Calculate purity"
   ]
  },
  {
   "cell_type": "code",
   "execution_count": 10,
   "id": "731deee3-e1a6-495b-b4d0-6fb5daf0069e",
   "metadata": {},
   "outputs": [
    {
     "name": "stdout",
     "output_type": "stream",
     "text": [
      "Purity: 0.6\n"
     ]
    }
   ],
   "source": [
    "total_samples = len(y_pred)\n",
    "cluster_label_counts = [Counter(y_pred)]\n",
    "purity = sum(max(cluster.values()) for cluster in cluster_label_counts) / total_samples\n",
    "print(\"Purity:\", purity)"
   ]
  }
 ],
 "metadata": {
  "kernelspec": {
   "display_name": "Python 3 (ipykernel)",
   "language": "python",
   "name": "python3"
  },
  "language_info": {
   "codemirror_mode": {
    "name": "ipython",
    "version": 3
   },
   "file_extension": ".py",
   "mimetype": "text/x-python",
   "name": "python",
   "nbconvert_exporter": "python",
   "pygments_lexer": "ipython3",
   "version": "3.11.7"
  }
 },
 "nbformat": 4,
 "nbformat_minor": 5
}

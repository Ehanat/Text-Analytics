{
 "cells": [
  {
   "cell_type": "markdown",
   "id": "ca38caf4",
   "metadata": {},
   "source": [
    "## Group mumbers\n",
    "* Errenbai Yeerhanti (SW01081538)\n",
    "* Zulfadhli Fakhri bin Johan (SW01081044)"
   ]
  },
  {
   "cell_type": "code",
   "execution_count": 1,
   "id": "8abd53a6",
   "metadata": {},
   "outputs": [],
   "source": [
    "from bs4 import BeautifulSoup\n",
    "import requests\n",
    "import csv\n",
    "import pandas as pd\n",
    "import re\n",
    "from datetime import datetime"
   ]
  },
  {
   "cell_type": "code",
   "execution_count": 2,
   "id": "1358a417",
   "metadata": {},
   "outputs": [],
   "source": [
    "# item url\n",
    "url = 'https://shopee.com.my/Xiaomi-Redmi-TWS-Bluetooth-Earphone-Wireless-Headphones-Stereo-Earbuds-Sport-Headset-Hifi-Bass-Waterproof-Noise-Reduction-HD-Mic-i.661976240.18954757803?sp_atk=cb4cd446-d34d-401e-a0f1-3c5a3db4e1c7&xptdk=cb4cd446-d34d-401e-a0f1-3c5a3db4e1c7&is_from_login=true'\n",
    "\n",
    "# use re libirary to get the shop id, and item id\n",
    "# this will send to the api as parameters\n",
    "r = re.search(r'i\\.(\\d+)\\.(\\d+)', url)\n",
    "if r:\n",
    "    shop_id, item_id = r.group(1), r.group(2)\n",
    "else:\n",
    "    print(\"Invalid URL\")\n",
    "    exit()"
   ]
  },
  {
   "cell_type": "code",
   "execution_count": 3,
   "id": "753a9248",
   "metadata": {},
   "outputs": [],
   "source": [
    "offset = 0\n",
    "reviews = []\n",
    "page_count = 1\n",
    "while page_count < 10:\n",
    "    ratings_url = f'https://shopee.com.my/api/v2/item/get_ratings?filter=0&flag=1&itemid={item_id}&limit=20&offset={offset}&shopid={shop_id}&type=0'\n",
    "    data = requests.get(ratings_url).json()\n",
    "\n",
    "    for rating in data['data']['ratings']:\n",
    "        date = datetime.fromtimestamp(rating['ctime'])\n",
    "        username = rating['author_username']\n",
    "        comment = rating['comment']\n",
    "        reviews.append({'username': username, 'comment': comment, 'date': date})\n",
    "\n",
    "    offset += 10\n",
    "    page_count += 1"
   ]
  },
  {
   "cell_type": "code",
   "execution_count": 4,
   "id": "43fa75d5",
   "metadata": {},
   "outputs": [],
   "source": [
    "with open('shopee_reviews.csv', 'w', newline='', encoding='utf-8') as csvfile:\n",
    "    fieldnames = ['username', 'comment', 'date']\n",
    "    writer = csv.DictWriter(csvfile, fieldnames=fieldnames)\n",
    "    writer.writeheader()\n",
    "    writer.writerows(reviews)"
   ]
  },
  {
   "cell_type": "code",
   "execution_count": null,
   "id": "730b765c",
   "metadata": {},
   "outputs": [],
   "source": []
  }
 ],
 "metadata": {
  "kernelspec": {
   "display_name": "Python 3 (ipykernel)",
   "language": "python",
   "name": "python3"
  },
  "language_info": {
   "codemirror_mode": {
    "name": "ipython",
    "version": 3
   },
   "file_extension": ".py",
   "mimetype": "text/x-python",
   "name": "python",
   "nbconvert_exporter": "python",
   "pygments_lexer": "ipython3",
   "version": "3.11.5"
  }
 },
 "nbformat": 4,
 "nbformat_minor": 5
}

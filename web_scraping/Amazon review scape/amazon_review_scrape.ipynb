{
 "cells": [
  {
   "cell_type": "code",
   "execution_count": 94,
   "id": "4eb3a96c",
   "metadata": {},
   "outputs": [],
   "source": [
    "import requests\n",
    "from bs4 import BeautifulSoup\n",
    "import pandas as pd\n",
    "import re\n",
    "import time\n",
    "import csv\n",
    "\n",
    "custom_headers = {\n",
    "    \"accept-language\": \"en-GB,en;q=0.9\",\n",
    "    \"Accept-Encoding\": \"gzip, deflate, br\",\n",
    "    \"Cache-Control\": \"max-age=0\",\n",
    "    \"Connection\": \"keep-alive\",\n",
    "    \"user-agent\": \"Mozilla/5.0 (Windows NT 10.0; Win64; x64) AppleWebKit/537.36 (KHTML, like Gecko) Chrome/122.0.0.0 Safari/537.36\",\n",
    "}\n",
    "reviews = []\n",
    "root_url = 'https://www.amazon.com/OneGame-Ergonomic-Adjustable-Backrest-Blackgray/product-reviews/B0CNZ287Y1/ref=cm_cr_getr_d_paging_btm_prev_1?ie=UTF8&pageNumber=1&reviewerType=all_reviews'"
   ]
  },
  {
   "cell_type": "code",
   "execution_count": 96,
   "id": "8ae5d67d",
   "metadata": {},
   "outputs": [],
   "source": [
    "def get_soup(url):\n",
    "    response = requests.get(url, headers=custom_headers)\n",
    "\n",
    "    if response.status_code != 200:\n",
    "        print(\"Error in getting webpage\")\n",
    "        exit(-1)\n",
    "\n",
    "    soup = BeautifulSoup(response.text, \"lxml\")\n",
    "    return soup"
   ]
  },
  {
   "cell_type": "code",
   "execution_count": 97,
   "id": "2405687f",
   "metadata": {},
   "outputs": [],
   "source": [
    "def get_date(text):\n",
    "    pattern = r'on\\s([A-Za-z]+\\s\\d{1,2},\\s\\d{4})'\n",
    "    match = re.search(pattern, text)\n",
    "    return match.group(1)"
   ]
  },
  {
   "cell_type": "code",
   "execution_count": 98,
   "id": "9b05aa37",
   "metadata": {},
   "outputs": [],
   "source": [
    "def get_onepage(soup, reviews):\n",
    "    review_elements = soup.find_all('div', class_='a-section review aok-relative')\n",
    "    for review in review_elements:\n",
    "        username = review.find('div', class_='a-profile-content').text\n",
    "        date_text = review.find('span', class_='a-size-base a-color-secondary review-date').text\n",
    "        date = get_date(date_text)\n",
    "        review_text = review.find('div', class_='a-row a-spacing-small review-data').text\n",
    "        reviews.append({'username': username, 'date': date, 'review': review_text})"
   ]
  },
  {
   "cell_type": "code",
   "execution_count": 99,
   "id": "0c4878a9",
   "metadata": {},
   "outputs": [],
   "source": [
    "def get_multiple_page(url):    \n",
    "    for page in range(1, 11):\n",
    "        soup = get_soup(root_url)\n",
    "        get_onepage(soup, reviews)\n",
    "        li = soup.find('li', class_='a-last')\n",
    "        url = li.find('a')['href']\n",
    "        print(len(reviews))\n",
    "        time.sleep(1)\n",
    "        print(f'page {page} ...')"
   ]
  },
  {
   "cell_type": "code",
   "execution_count": 100,
   "id": "f5d64504",
   "metadata": {},
   "outputs": [
    {
     "name": "stdout",
     "output_type": "stream",
     "text": [
      "10\n",
      "page 1 ...\n",
      "20\n",
      "page 2 ...\n",
      "30\n",
      "page 3 ...\n",
      "40\n",
      "page 4 ...\n",
      "50\n",
      "page 5 ...\n",
      "60\n",
      "page 6 ...\n",
      "70\n",
      "page 7 ...\n",
      "80\n",
      "page 8 ...\n",
      "90\n",
      "page 9 ...\n",
      "100\n",
      "page 10 ...\n"
     ]
    }
   ],
   "source": [
    "get_multiple_page(root_url)"
   ]
  },
  {
   "cell_type": "code",
   "execution_count": 101,
   "id": "8c720ff5",
   "metadata": {},
   "outputs": [],
   "source": [
    "with open('reviews.csv', 'w', newline='', encoding='utf-8') as csvfile:\n",
    "    writer = csv.DictWriter(csvfile, fieldnames=['username', 'date', 'review'])\n",
    "    writer.writeheader()\n",
    "    writer.writerows(reviews)"
   ]
  },
  {
   "cell_type": "code",
   "execution_count": 102,
   "id": "86ef7700",
   "metadata": {},
   "outputs": [
    {
     "data": {
      "text/html": [
       "<div>\n",
       "<style scoped>\n",
       "    .dataframe tbody tr th:only-of-type {\n",
       "        vertical-align: middle;\n",
       "    }\n",
       "\n",
       "    .dataframe tbody tr th {\n",
       "        vertical-align: top;\n",
       "    }\n",
       "\n",
       "    .dataframe thead th {\n",
       "        text-align: right;\n",
       "    }\n",
       "</style>\n",
       "<table border=\"1\" class=\"dataframe\">\n",
       "  <thead>\n",
       "    <tr style=\"text-align: right;\">\n",
       "      <th></th>\n",
       "      <th>username</th>\n",
       "      <th>date</th>\n",
       "      <th>review</th>\n",
       "    </tr>\n",
       "  </thead>\n",
       "  <tbody>\n",
       "    <tr>\n",
       "      <th>0</th>\n",
       "      <td>bing</td>\n",
       "      <td>March 14, 2024</td>\n",
       "      <td>\\nI just bought the Onegame gaming chair with ...</td>\n",
       "    </tr>\n",
       "    <tr>\n",
       "      <th>1</th>\n",
       "      <td>Quinci</td>\n",
       "      <td>March 13, 2024</td>\n",
       "      <td>\\nThis is a very solid option for affordable g...</td>\n",
       "    </tr>\n",
       "    <tr>\n",
       "      <th>2</th>\n",
       "      <td>JZ</td>\n",
       "      <td>March 1, 2024</td>\n",
       "      <td>\\nMy son really likes his new gaming chair.  T...</td>\n",
       "    </tr>\n",
       "    <tr>\n",
       "      <th>3</th>\n",
       "      <td>Stephanie</td>\n",
       "      <td>March 15, 2024</td>\n",
       "      <td>\\nMy rating is for the instructions that are h...</td>\n",
       "    </tr>\n",
       "    <tr>\n",
       "      <th>4</th>\n",
       "      <td>Sherry Dallo</td>\n",
       "      <td>March 2, 2024</td>\n",
       "      <td>\\nThe chairs are great! My husband likes it ve...</td>\n",
       "    </tr>\n",
       "    <tr>\n",
       "      <th>...</th>\n",
       "      <td>...</td>\n",
       "      <td>...</td>\n",
       "      <td>...</td>\n",
       "    </tr>\n",
       "    <tr>\n",
       "      <th>95</th>\n",
       "      <td>WENDY</td>\n",
       "      <td>March 1, 2024</td>\n",
       "      <td>\\nThe chair is very comfortable. I especially ...</td>\n",
       "    </tr>\n",
       "    <tr>\n",
       "      <th>96</th>\n",
       "      <td>Travis L.</td>\n",
       "      <td>March 11, 2024</td>\n",
       "      <td>\\nI think looks and functionality it's a 10/10...</td>\n",
       "    </tr>\n",
       "    <tr>\n",
       "      <th>97</th>\n",
       "      <td>kiwi</td>\n",
       "      <td>March 11, 2024</td>\n",
       "      <td>\\nThe quality is very good, very easy to insta...</td>\n",
       "    </tr>\n",
       "    <tr>\n",
       "      <th>98</th>\n",
       "      <td>Lau C.</td>\n",
       "      <td>March 5, 2024</td>\n",
       "      <td>\\nThe chair’s manual was short and easy to und...</td>\n",
       "    </tr>\n",
       "    <tr>\n",
       "      <th>99</th>\n",
       "      <td>yalch⭐</td>\n",
       "      <td>February 13, 2024</td>\n",
       "      <td>\\nFirst of all, for this price, no way you are...</td>\n",
       "    </tr>\n",
       "  </tbody>\n",
       "</table>\n",
       "<p>100 rows × 3 columns</p>\n",
       "</div>"
      ],
      "text/plain": [
       "        username               date  \\\n",
       "0           bing     March 14, 2024   \n",
       "1         Quinci     March 13, 2024   \n",
       "2             JZ      March 1, 2024   \n",
       "3     Stephanie      March 15, 2024   \n",
       "4   Sherry Dallo      March 2, 2024   \n",
       "..           ...                ...   \n",
       "95         WENDY      March 1, 2024   \n",
       "96     Travis L.     March 11, 2024   \n",
       "97          kiwi     March 11, 2024   \n",
       "98        Lau C.      March 5, 2024   \n",
       "99        yalch⭐  February 13, 2024   \n",
       "\n",
       "                                               review  \n",
       "0   \\nI just bought the Onegame gaming chair with ...  \n",
       "1   \\nThis is a very solid option for affordable g...  \n",
       "2   \\nMy son really likes his new gaming chair.  T...  \n",
       "3   \\nMy rating is for the instructions that are h...  \n",
       "4   \\nThe chairs are great! My husband likes it ve...  \n",
       "..                                                ...  \n",
       "95  \\nThe chair is very comfortable. I especially ...  \n",
       "96  \\nI think looks and functionality it's a 10/10...  \n",
       "97  \\nThe quality is very good, very easy to insta...  \n",
       "98  \\nThe chair’s manual was short and easy to und...  \n",
       "99  \\nFirst of all, for this price, no way you are...  \n",
       "\n",
       "[100 rows x 3 columns]"
      ]
     },
     "execution_count": 102,
     "metadata": {},
     "output_type": "execute_result"
    }
   ],
   "source": [
    "df = pd.read_csv('reviews.csv')\n",
    "df"
   ]
  },
  {
   "cell_type": "code",
   "execution_count": null,
   "id": "33eaca9f",
   "metadata": {},
   "outputs": [],
   "source": []
  }
 ],
 "metadata": {
  "kernelspec": {
   "display_name": "Python 3 (ipykernel)",
   "language": "python",
   "name": "python3"
  },
  "language_info": {
   "codemirror_mode": {
    "name": "ipython",
    "version": 3
   },
   "file_extension": ".py",
   "mimetype": "text/x-python",
   "name": "python",
   "nbconvert_exporter": "python",
   "pygments_lexer": "ipython3",
   "version": "3.11.5"
  }
 },
 "nbformat": 4,
 "nbformat_minor": 5
}
